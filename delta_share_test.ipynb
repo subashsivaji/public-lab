{
  "nbformat": 4,
  "nbformat_minor": 0,
  "metadata": {
    "colab": {
      "name": "delta_share_test.ipynb",
      "provenance": [],
      "authorship_tag": "ABX9TyPbEStGtFKwvJteAD+CHQaW",
      "include_colab_link": true
    },
    "kernelspec": {
      "name": "python3",
      "display_name": "Python 3"
    },
    "language_info": {
      "name": "python"
    }
  },
  "cells": [
    {
      "cell_type": "markdown",
      "metadata": {
        "id": "view-in-github",
        "colab_type": "text"
      },
      "source": [
        "<a href=\"https://colab.research.google.com/github/subashsivaji/public-lab/blob/main/delta_share_test.ipynb\" target=\"_parent\"><img src=\"https://colab.research.google.com/assets/colab-badge.svg\" alt=\"Open In Colab\"/></a>"
      ]
    },
    {
      "cell_type": "code",
      "metadata": {
        "colab": {
          "base_uri": "https://localhost:8080/"
        },
        "id": "nMGwpyWzEQiY",
        "outputId": "9122d48c-08de-46df-8d89-0a8018c60ffa"
      },
      "source": [
        "pip install delta-sharing\n"
      ],
      "execution_count": 1,
      "outputs": [
        {
          "output_type": "stream",
          "name": "stdout",
          "text": [
            "Collecting delta-sharing\n",
            "  Downloading delta_sharing-0.2.0-py3-none-any.whl (12 kB)\n",
            "Requirement already satisfied: pyarrow in /usr/local/lib/python3.7/dist-packages (from delta-sharing) (3.0.0)\n",
            "Collecting fsspec>=0.7.4\n",
            "  Downloading fsspec-2021.10.1-py3-none-any.whl (125 kB)\n",
            "\u001b[K     |████████████████████████████████| 125 kB 5.9 MB/s \n",
            "\u001b[?25hRequirement already satisfied: requests in /usr/local/lib/python3.7/dist-packages (from delta-sharing) (2.23.0)\n",
            "Requirement already satisfied: pandas in /usr/local/lib/python3.7/dist-packages (from delta-sharing) (1.1.5)\n",
            "Collecting aiohttp\n",
            "  Downloading aiohttp-3.7.4.post0-cp37-cp37m-manylinux2014_x86_64.whl (1.3 MB)\n",
            "\u001b[K     |████████████████████████████████| 1.3 MB 22.4 MB/s \n",
            "\u001b[?25hRequirement already satisfied: attrs>=17.3.0 in /usr/local/lib/python3.7/dist-packages (from aiohttp->delta-sharing) (21.2.0)\n",
            "Requirement already satisfied: chardet<5.0,>=2.0 in /usr/local/lib/python3.7/dist-packages (from aiohttp->delta-sharing) (3.0.4)\n",
            "Requirement already satisfied: typing-extensions>=3.6.5 in /usr/local/lib/python3.7/dist-packages (from aiohttp->delta-sharing) (3.7.4.3)\n",
            "Collecting async-timeout<4.0,>=3.0\n",
            "  Downloading async_timeout-3.0.1-py3-none-any.whl (8.2 kB)\n",
            "Collecting yarl<2.0,>=1.0\n",
            "  Downloading yarl-1.7.0-cp37-cp37m-manylinux_2_5_x86_64.manylinux1_x86_64.manylinux_2_12_x86_64.manylinux2010_x86_64.whl (271 kB)\n",
            "\u001b[K     |████████████████████████████████| 271 kB 71.0 MB/s \n",
            "\u001b[?25hCollecting multidict<7.0,>=4.5\n",
            "  Downloading multidict-5.2.0-cp37-cp37m-manylinux_2_5_x86_64.manylinux1_x86_64.manylinux_2_12_x86_64.manylinux2010_x86_64.whl (160 kB)\n",
            "\u001b[K     |████████████████████████████████| 160 kB 56.0 MB/s \n",
            "\u001b[?25hRequirement already satisfied: idna>=2.0 in /usr/local/lib/python3.7/dist-packages (from yarl<2.0,>=1.0->aiohttp->delta-sharing) (2.10)\n",
            "Requirement already satisfied: python-dateutil>=2.7.3 in /usr/local/lib/python3.7/dist-packages (from pandas->delta-sharing) (2.8.2)\n",
            "Requirement already satisfied: pytz>=2017.2 in /usr/local/lib/python3.7/dist-packages (from pandas->delta-sharing) (2018.9)\n",
            "Requirement already satisfied: numpy>=1.15.4 in /usr/local/lib/python3.7/dist-packages (from pandas->delta-sharing) (1.19.5)\n",
            "Requirement already satisfied: six>=1.5 in /usr/local/lib/python3.7/dist-packages (from python-dateutil>=2.7.3->pandas->delta-sharing) (1.15.0)\n",
            "Requirement already satisfied: urllib3!=1.25.0,!=1.25.1,<1.26,>=1.21.1 in /usr/local/lib/python3.7/dist-packages (from requests->delta-sharing) (1.24.3)\n",
            "Requirement already satisfied: certifi>=2017.4.17 in /usr/local/lib/python3.7/dist-packages (from requests->delta-sharing) (2021.5.30)\n",
            "Installing collected packages: multidict, yarl, async-timeout, fsspec, aiohttp, delta-sharing\n",
            "Successfully installed aiohttp-3.7.4.post0 async-timeout-3.0.1 delta-sharing-0.2.0 fsspec-2021.10.1 multidict-5.2.0 yarl-1.7.0\n"
          ]
        }
      ]
    },
    {
      "cell_type": "code",
      "metadata": {
        "colab": {
          "base_uri": "https://localhost:8080/"
        },
        "id": "2fLFQRhQEnvv",
        "outputId": "480cb281-831d-49aa-df1c-0a6c4d316fc7"
      },
      "source": [
        "import delta_sharing\n",
        "# Point to the profile file\n",
        "profile_file = \"https://raw.githubusercontent.com/delta-io/delta-sharing/main/examples/open-datasets.share\"\n",
        "\n",
        "# create a Delta Sharing client pointing to the server endpoint defined in the profile_file\n",
        "client = delta_sharing.SharingClient(profile_file)\n",
        "\n",
        "# List all shared tables.\n",
        "print(client.list_all_tables())\n",
        "\n",
        "# load data as pandas dataframe (or Spark)\n",
        "table_url = profile_file + \"#delta_sharing.default.owid-covid-data\"\n",
        "data = delta_sharing.load_as_pandas(table_url)\n",
        "\n",
        "# display filtered data\n",
        "print(data[data[\"iso_code\"] == \"USA\"].head(10))"
      ],
      "execution_count": 3,
      "outputs": [
        {
          "output_type": "stream",
          "name": "stdout",
          "text": [
            "      iso_code      continent  ... life_expectancy human_development_index\n",
            "83143      USA  North America  ...           78.86                   0.926\n",
            "83144      USA  North America  ...           78.86                   0.926\n",
            "83145      USA  North America  ...           78.86                   0.926\n",
            "83146      USA  North America  ...           78.86                   0.926\n",
            "83147      USA  North America  ...           78.86                   0.926\n",
            "83148      USA  North America  ...           78.86                   0.926\n",
            "83149      USA  North America  ...           78.86                   0.926\n",
            "83150      USA  North America  ...           78.86                   0.926\n",
            "83151      USA  North America  ...           78.86                   0.926\n",
            "83152      USA  North America  ...           78.86                   0.926\n",
            "\n",
            "[10 rows x 59 columns]\n"
          ]
        }
      ]
    },
    {
      "cell_type": "code",
      "metadata": {
        "id": "qNwZSiDAFf5m"
      },
      "source": [
        ""
      ],
      "execution_count": null,
      "outputs": []
    }
  ]
}